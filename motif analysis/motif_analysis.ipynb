{
 "cells": [
  {
   "cell_type": "code",
   "execution_count": null,
   "id": "94425d62",
   "metadata": {},
   "outputs": [],
   "source": [
    "import pandas as pd\n",
    "known_enhancers = pd.read_csv('known_enhancers.csv')\n",
    "generated_dev = pd.read_csv('generated_dev.csv')\n",
    "generated_hk = pd.read_csv('generated_hk.csv')"
   ]
  },
  {
   "cell_type": "code",
   "execution_count": null,
   "id": "5b52c694",
   "metadata": {},
   "outputs": [],
   "source": [
    "known_enhancers = known_enhancers[:354]\n",
    "known_enhancers"
   ]
  },
  {
   "cell_type": "code",
   "execution_count": null,
   "id": "2af603c8",
   "metadata": {},
   "outputs": [],
   "source": [
    "generated_dev = generated_dev[:162]\n",
    "generated_dev"
   ]
  },
  {
   "cell_type": "code",
   "execution_count": null,
   "id": "39974926",
   "metadata": {},
   "outputs": [],
   "source": [
    "def search_for_match(motif_name, consensus, row_num, matches):\n",
    "    for index, row in known_enhancers.iterrows():\n",
    "        if row['Motif Name'] == motif_name and row['Consensus'] == consensus:\n",
    "            matches['Motif Name'].append(motif_name) \n",
    "            matches['Consensus'].append(consensus) \n",
    "            matches['Rank in Generated'].append(row_num + 1)\n",
    "            matches['Rank in Known'].append(index + 1)\n",
    "            break"
   ]
  },
  {
   "cell_type": "code",
   "execution_count": null,
   "id": "d3196d79",
   "metadata": {},
   "outputs": [],
   "source": [
    "d= {'Motif Name': [], 'Consensus': [], 'Rank in Generated': [], 'Rank in Known': []}\n",
    "for index, row in generated_dev.iterrows():\n",
    "    search_for_match(row['Motif Name'], row['Consensus'], index, d)\n",
    "df = pd.DataFrame(d)\n",
    "df"
   ]
  },
  {
   "cell_type": "code",
   "execution_count": null,
   "id": "6e7eedd0",
   "metadata": {},
   "outputs": [],
   "source": [
    "df.to_csv('generated_dev_matches.csv', index=False)"
   ]
  },
  {
   "cell_type": "code",
   "execution_count": null,
   "id": "e3add8f8",
   "metadata": {},
   "outputs": [],
   "source": [
    "generated_hk = generated_hk[:289]\n",
    "generated_hk"
   ]
  },
  {
   "cell_type": "code",
   "execution_count": null,
   "id": "cb45212e",
   "metadata": {},
   "outputs": [],
   "source": [
    "d= {'Motif Name': [], 'Consensus': [], 'Rank in Generated': [], 'Rank in Known': []}\n",
    "for index, row in generated_hk.iterrows():\n",
    "    search_for_match(row['Motif Name'], row['Consensus'], index, d)\n",
    "df = pd.DataFrame(d)\n",
    "df"
   ]
  },
  {
   "cell_type": "code",
   "execution_count": null,
   "id": "3e4f1afc",
   "metadata": {},
   "outputs": [],
   "source": [
    "df.to_csv('generated_hk_matches.csv', index=False)"
   ]
  }
 ],
 "metadata": {
  "kernelspec": {
   "display_name": "Python 3",
   "language": "python",
   "name": "python3"
  },
  "language_info": {
   "codemirror_mode": {
    "name": "ipython",
    "version": 3
   },
   "file_extension": ".py",
   "mimetype": "text/x-python",
   "name": "python",
   "nbconvert_exporter": "python",
   "pygments_lexer": "ipython3",
   "version": "3.8.5"
  }
 },
 "nbformat": 4,
 "nbformat_minor": 5
}
